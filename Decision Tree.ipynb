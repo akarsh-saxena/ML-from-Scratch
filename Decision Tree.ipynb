{
 "cells": [
  {
   "cell_type": "code",
   "execution_count": 1,
   "metadata": {
    "ExecuteTime": {
     "end_time": "2020-09-28T17:15:25.117737Z",
     "start_time": "2020-09-28T17:15:25.058843Z"
    },
    "id": "1tzw9rFBjZvh"
   },
   "outputs": [],
   "source": [
    "import numpy as np\n",
    "import pandas as pd\n",
    "import itertools\n",
    "import operator\n",
    "import pprint\n",
    "import tqdm.auto as tqdm"
   ]
  },
  {
   "cell_type": "code",
   "execution_count": 2,
   "metadata": {
    "ExecuteTime": {
     "end_time": "2020-09-28T17:15:25.242883Z",
     "start_time": "2020-09-28T17:15:25.122659Z"
    }
   },
   "outputs": [],
   "source": [
    "def flatten(container):\n",
    "    for i in container:\n",
    "        if isinstance(i, (list, tuple)):\n",
    "            yield from flatten(i)\n",
    "        else:\n",
    "            yield i"
   ]
  },
  {
   "cell_type": "code",
   "execution_count": 3,
   "metadata": {
    "ExecuteTime": {
     "end_time": "2020-09-28T17:15:25.446925Z",
     "start_time": "2020-09-28T17:15:25.244877Z"
    }
   },
   "outputs": [],
   "source": [
    "def calculate_prob(y, prob_class):\n",
    "    n_class = sum(prob_class == i for i in flatten(y))\n",
    "\n",
    "    return n_class"
   ]
  },
  {
   "cell_type": "code",
   "execution_count": 4,
   "metadata": {
    "ExecuteTime": {
     "end_time": "2020-09-28T17:15:25.579076Z",
     "start_time": "2020-09-28T17:15:25.448919Z"
    }
   },
   "outputs": [],
   "source": [
    "def format_input(X):\n",
    "    if not isinstance(X, (pd.DataFrame, pd.Series)):\n",
    "        if isinstance(X, dict):\n",
    "            X = pd.DataFrame(X)\n",
    "        else:\n",
    "            X = pd.DataFrame(X,\n",
    "                             columns=['x' + str(i) for i in range(X.shape[1])])\n",
    "\n",
    "    return X"
   ]
  },
  {
   "cell_type": "code",
   "execution_count": 5,
   "metadata": {
    "ExecuteTime": {
     "end_time": "2020-09-28T17:15:25.708810Z",
     "start_time": "2020-09-28T17:15:25.581071Z"
    }
   },
   "outputs": [],
   "source": [
    "def get_class_counts(y):\n",
    "    classes = np.unique(y)\n",
    "    counts = []\n",
    "    class_counts = {}\n",
    "\n",
    "    for c in classes:\n",
    "        counts.append(int(sum(c == i for i in flatten(y.values))))\n",
    "        class_counts[c] = int(sum(c == i for i in flatten(y.values)))\n",
    "\n",
    "    return class_counts"
   ]
  },
  {
   "cell_type": "code",
   "execution_count": 6,
   "metadata": {
    "ExecuteTime": {
     "end_time": "2020-09-28T17:15:25.845983Z",
     "start_time": "2020-09-28T17:15:25.712756Z"
    }
   },
   "outputs": [],
   "source": [
    "def get_datatypes(X):\n",
    "    datatypes = {}\n",
    "    for name, dtype in X.dtypes.items():\n",
    "        if dtype == 'O':\n",
    "            datatypes[name] = 'categorical'\n",
    "        else: \n",
    "            datatypes[name] = 'numerical'\n",
    "            \n",
    "    return datatypes"
   ]
  },
  {
   "cell_type": "code",
   "execution_count": 7,
   "metadata": {
    "ExecuteTime": {
     "end_time": "2020-09-28T17:15:25.954355Z",
     "start_time": "2020-09-28T17:15:25.850968Z"
    }
   },
   "outputs": [],
   "source": [
    "def calculate_entropy(y):\n",
    "    class_counts = get_class_counts(y)\n",
    "    class_entropy = {\n",
    "        cl: -count / sum(class_counts.values()) *\n",
    "        np.log2(count / sum(class_counts.values()))\n",
    "        for cl, count in class_counts.items()\n",
    "    }\n",
    "    entropy = sum(class_entropy.values())\n",
    "\n",
    "    return entropy"
   ]
  },
  {
   "cell_type": "code",
   "execution_count": 8,
   "metadata": {
    "ExecuteTime": {
     "end_time": "2020-09-28T17:15:26.124431Z",
     "start_time": "2020-09-28T17:15:25.956349Z"
    }
   },
   "outputs": [],
   "source": [
    "def get_split_condition(X, col):\n",
    "    return X.iloc[:, col].unique()"
   ]
  },
  {
   "cell_type": "code",
   "execution_count": 9,
   "metadata": {
    "ExecuteTime": {
     "end_time": "2020-09-28T17:15:26.284586Z",
     "start_time": "2020-09-28T17:15:26.126435Z"
    }
   },
   "outputs": [],
   "source": [
    "def get_subset(X, col, val):\n",
    "    eq_X = X.loc[X[X.columns[col]] == val]\n",
    "    not_eq_X = X.drop(eq_X.index)\n",
    "\n",
    "    return eq_X, not_eq_X"
   ]
  },
  {
   "cell_type": "code",
   "execution_count": 10,
   "metadata": {
    "ExecuteTime": {
     "end_time": "2020-09-28T17:15:26.413137Z",
     "start_time": "2020-09-28T17:15:26.287537Z"
    }
   },
   "outputs": [],
   "source": [
    "def is_pure(y):\n",
    "    return len(np.unique(y.values)) == 1"
   ]
  },
  {
   "cell_type": "code",
   "execution_count": 11,
   "metadata": {
    "ExecuteTime": {
     "end_time": "2020-09-28T17:15:26.531793Z",
     "start_time": "2020-09-28T17:15:26.415132Z"
    }
   },
   "outputs": [],
   "source": [
    "def build_tree(X,\n",
    "               y,\n",
    "               max_depth=None,\n",
    "               min_samples=None,\n",
    "               tree=None):\n",
    "\n",
    "    if tree is None:\n",
    "        tree = {}\n",
    "\n",
    "    entropies = {}\n",
    "    columns = {}\n",
    "\n",
    "    for col_idx in tqdm.trange(X.shape[1], position=0, leave=True):\n",
    "\n",
    "        split_vals = get_split_condition(X, col_idx)\n",
    "\n",
    "        for val in split_vals:\n",
    "            eq_X, not_eq_X = get_subset(X, col_idx, val)\n",
    "            eq_y, not_eq_y = y.loc[eq_X.index, :], y.loc[not_eq_X.index, :]\n",
    "\n",
    "            eq_entr = calculate_entropy(eq_y)\n",
    "            not_eq_entr = calculate_entropy(not_eq_y)\n",
    "\n",
    "            avg_entr = (len(eq_y) / len(y) * eq_entr) + (len(not_eq_y) /\n",
    "                                                         len(y) * not_eq_entr)\n",
    "\n",
    "            entropies[val] = avg_entr\n",
    "            columns[val] = col_idx\n",
    "\n",
    "    best_split_key = min(entropies, key=entropies.get)\n",
    "    best_split_value = entropies.get(best_split_key)\n",
    "\n",
    "    eq_X, not_eq_X = get_subset(X, columns[best_split_key], best_split_key)\n",
    "    eq_y, not_eq_y = y.loc[eq_X.index, :], y.loc[not_eq_X.index, :]\n",
    "\n",
    "    print('Best split', best_split_key, best_split_value)\n",
    "\n",
    "    column_name = X.columns[columns[best_split_key]]\n",
    "\n",
    "    condition = column_name + ' == ' + best_split_key\n",
    "\n",
    "    tree[condition] = []\n",
    "    if is_pure(eq_y):\n",
    "        tree[condition].append(np.unique(eq_y)[0])\n",
    "    else:\n",
    "        tree[condition].append(build_tree(eq_X, eq_y))\n",
    "\n",
    "    if is_pure(not_eq_y):\n",
    "        tree[condition].append(np.unique(not_eq_y)[0])\n",
    "    else:\n",
    "        tree[condition].append(build_tree(not_eq_X, not_eq_y))\n",
    "\n",
    "    return tree"
   ]
  },
  {
   "cell_type": "code",
   "execution_count": 12,
   "metadata": {
    "ExecuteTime": {
     "end_time": "2020-09-28T17:15:26.688634Z",
     "start_time": "2020-09-28T17:15:26.534784Z"
    }
   },
   "outputs": [],
   "source": [
    "def get_prediction(instance, tree):\n",
    "\n",
    "    node = list(tree.keys())[0]\n",
    "\n",
    "    operators = {'==': operator.eq, '<': operator.le}\n",
    "\n",
    "    col, op, val = node.split(' ')\n",
    "\n",
    "    compare_eq = operators[op](instance[col].values[0], val)\n",
    "\n",
    "    if compare_eq:\n",
    "        ans = tree[node][0]\n",
    "    else:\n",
    "        ans = tree[node][1]\n",
    "\n",
    "    if not isinstance(ans, dict):\n",
    "        return ans\n",
    "    else:\n",
    "        return get_prediction(instance, ans)"
   ]
  },
  {
   "cell_type": "code",
   "execution_count": 13,
   "metadata": {
    "ExecuteTime": {
     "end_time": "2020-09-28T17:15:26.810073Z",
     "start_time": "2020-09-28T17:15:26.692624Z"
    }
   },
   "outputs": [],
   "source": [
    "def predict(X, tree):\n",
    "\n",
    "    predictions = []\n",
    "\n",
    "    for i in range(len(X)):\n",
    "        predictions.append(get_prediction(X.iloc[[i], :], tree))\n",
    "\n",
    "    return predictions"
   ]
  },
  {
   "cell_type": "code",
   "execution_count": 14,
   "metadata": {
    "ExecuteTime": {
     "end_time": "2020-09-28T17:15:26.987615Z",
     "start_time": "2020-09-28T17:15:26.812075Z"
    }
   },
   "outputs": [],
   "source": [
    "def score(X, y, tree):\n",
    "    correct = 0\n",
    "\n",
    "    for i in range(len(X)):\n",
    "        pred = predict(X.iloc[[i]], tree)\n",
    "        if pred == y.values[i]:\n",
    "            correct += 1\n",
    "\n",
    "    return correct / len(X) * 100"
   ]
  },
  {
   "cell_type": "code",
   "execution_count": 15,
   "metadata": {
    "ExecuteTime": {
     "end_time": "2020-09-28T17:15:27.123970Z",
     "start_time": "2020-09-28T17:15:26.991603Z"
    }
   },
   "outputs": [],
   "source": [
    "X = {'Taste':['Salty','Spicy','Spicy','Spicy','Spicy','Sweet','Salty','Sweet','Spicy','Salty'],\n",
    "       'Temperature':['Hot','Hot','Hot','Cold','Hot','Cold','Cold','Hot','Cold','Hot'],\n",
    "       'Texture':['Soft','Soft','Hard','Hard','Hard','Soft','Soft','Soft','Soft','Hard']}\n",
    "       \n",
    "y = {'Eat':['No','No','Yes','No','Yes','Yes','No','Yes','Yes','Yes']}\n",
    "\n",
    "X = format_input(X)\n",
    "y = format_input(y)"
   ]
  },
  {
   "cell_type": "code",
   "execution_count": 16,
   "metadata": {
    "ExecuteTime": {
     "end_time": "2020-09-28T17:15:27.326834Z",
     "start_time": "2020-09-28T17:15:27.125963Z"
    }
   },
   "outputs": [],
   "source": [
    "from sklearn.model_selection import train_test_split\n",
    "\n",
    "X_train, X_test, y_train, y_test = train_test_split(X, y, test_size=0.2, random_state=123)"
   ]
  },
  {
   "cell_type": "code",
   "execution_count": 17,
   "metadata": {
    "ExecuteTime": {
     "end_time": "2020-09-28T17:15:27.807817Z",
     "start_time": "2020-09-28T17:15:27.328831Z"
    }
   },
   "outputs": [
    {
     "data": {
      "application/vnd.jupyter.widget-view+json": {
       "model_id": "2932803d3e7f4da49f78f0ab5426666f",
       "version_major": 2,
       "version_minor": 0
      },
      "text/html": [
       "<p>Failed to display Jupyter Widget of type <code>HBox</code>.</p>\n",
       "<p>\n",
       "  If you're reading this message in the Jupyter Notebook or JupyterLab Notebook, it may mean\n",
       "  that the widgets JavaScript is still loading. If this message persists, it\n",
       "  likely means that the widgets JavaScript library is either not installed or\n",
       "  not enabled. See the <a href=\"https://ipywidgets.readthedocs.io/en/stable/user_install.html\">Jupyter\n",
       "  Widgets Documentation</a> for setup instructions.\n",
       "</p>\n",
       "<p>\n",
       "  If you're reading this message in another frontend (for example, a static\n",
       "  rendering on GitHub or <a href=\"https://nbviewer.jupyter.org/\">NBViewer</a>),\n",
       "  it may mean that your frontend doesn't currently support widgets.\n",
       "</p>\n"
      ],
      "text/plain": [
       "HBox(children=(IntProgress(value=0, max=3), HTML(value='')))"
      ]
     },
     "metadata": {},
     "output_type": "display_data"
    },
    {
     "name": "stdout",
     "output_type": "stream",
     "text": [
      "\n",
      "Best split Sweet 0.75\n"
     ]
    },
    {
     "data": {
      "application/vnd.jupyter.widget-view+json": {
       "model_id": "234431b3dbbd4a1fba67c99fe9abd914",
       "version_major": 2,
       "version_minor": 0
      },
      "text/html": [
       "<p>Failed to display Jupyter Widget of type <code>HBox</code>.</p>\n",
       "<p>\n",
       "  If you're reading this message in the Jupyter Notebook or JupyterLab Notebook, it may mean\n",
       "  that the widgets JavaScript is still loading. If this message persists, it\n",
       "  likely means that the widgets JavaScript library is either not installed or\n",
       "  not enabled. See the <a href=\"https://ipywidgets.readthedocs.io/en/stable/user_install.html\">Jupyter\n",
       "  Widgets Documentation</a> for setup instructions.\n",
       "</p>\n",
       "<p>\n",
       "  If you're reading this message in another frontend (for example, a static\n",
       "  rendering on GitHub or <a href=\"https://nbviewer.jupyter.org/\">NBViewer</a>),\n",
       "  it may mean that your frontend doesn't currently support widgets.\n",
       "</p>\n"
      ],
      "text/plain": [
       "HBox(children=(IntProgress(value=0, max=3), HTML(value='')))"
      ]
     },
     "metadata": {},
     "output_type": "display_data"
    },
    {
     "name": "stdout",
     "output_type": "stream",
     "text": [
      "\n",
      "Best split Cold 0.9182958340544896\n"
     ]
    },
    {
     "data": {
      "application/vnd.jupyter.widget-view+json": {
       "model_id": "e65b052278e44e5185d93ab841134b98",
       "version_major": 2,
       "version_minor": 0
      },
      "text/html": [
       "<p>Failed to display Jupyter Widget of type <code>HBox</code>.</p>\n",
       "<p>\n",
       "  If you're reading this message in the Jupyter Notebook or JupyterLab Notebook, it may mean\n",
       "  that the widgets JavaScript is still loading. If this message persists, it\n",
       "  likely means that the widgets JavaScript library is either not installed or\n",
       "  not enabled. See the <a href=\"https://ipywidgets.readthedocs.io/en/stable/user_install.html\">Jupyter\n",
       "  Widgets Documentation</a> for setup instructions.\n",
       "</p>\n",
       "<p>\n",
       "  If you're reading this message in another frontend (for example, a static\n",
       "  rendering on GitHub or <a href=\"https://nbviewer.jupyter.org/\">NBViewer</a>),\n",
       "  it may mean that your frontend doesn't currently support widgets.\n",
       "</p>\n"
      ],
      "text/plain": [
       "HBox(children=(IntProgress(value=0, max=3), HTML(value='')))"
      ]
     },
     "metadata": {},
     "output_type": "display_data"
    },
    {
     "name": "stdout",
     "output_type": "stream",
     "text": [
      "\n",
      "Best split Spicy 0.6666666666666666\n"
     ]
    },
    {
     "data": {
      "application/vnd.jupyter.widget-view+json": {
       "model_id": "2d64bf35bb0d47bba6363095c2432fc4",
       "version_major": 2,
       "version_minor": 0
      },
      "text/html": [
       "<p>Failed to display Jupyter Widget of type <code>HBox</code>.</p>\n",
       "<p>\n",
       "  If you're reading this message in the Jupyter Notebook or JupyterLab Notebook, it may mean\n",
       "  that the widgets JavaScript is still loading. If this message persists, it\n",
       "  likely means that the widgets JavaScript library is either not installed or\n",
       "  not enabled. See the <a href=\"https://ipywidgets.readthedocs.io/en/stable/user_install.html\">Jupyter\n",
       "  Widgets Documentation</a> for setup instructions.\n",
       "</p>\n",
       "<p>\n",
       "  If you're reading this message in another frontend (for example, a static\n",
       "  rendering on GitHub or <a href=\"https://nbviewer.jupyter.org/\">NBViewer</a>),\n",
       "  it may mean that your frontend doesn't currently support widgets.\n",
       "</p>\n"
      ],
      "text/plain": [
       "HBox(children=(IntProgress(value=0, max=3), HTML(value='')))"
      ]
     },
     "metadata": {},
     "output_type": "display_data"
    },
    {
     "name": "stdout",
     "output_type": "stream",
     "text": [
      "\n",
      "Best split Soft 0.0\n"
     ]
    },
    {
     "data": {
      "application/vnd.jupyter.widget-view+json": {
       "model_id": "070724c64ee24e2780a1e8a989cfd19d",
       "version_major": 2,
       "version_minor": 0
      },
      "text/html": [
       "<p>Failed to display Jupyter Widget of type <code>HBox</code>.</p>\n",
       "<p>\n",
       "  If you're reading this message in the Jupyter Notebook or JupyterLab Notebook, it may mean\n",
       "  that the widgets JavaScript is still loading. If this message persists, it\n",
       "  likely means that the widgets JavaScript library is either not installed or\n",
       "  not enabled. See the <a href=\"https://ipywidgets.readthedocs.io/en/stable/user_install.html\">Jupyter\n",
       "  Widgets Documentation</a> for setup instructions.\n",
       "</p>\n",
       "<p>\n",
       "  If you're reading this message in another frontend (for example, a static\n",
       "  rendering on GitHub or <a href=\"https://nbviewer.jupyter.org/\">NBViewer</a>),\n",
       "  it may mean that your frontend doesn't currently support widgets.\n",
       "</p>\n"
      ],
      "text/plain": [
       "HBox(children=(IntProgress(value=0, max=3), HTML(value='')))"
      ]
     },
     "metadata": {},
     "output_type": "display_data"
    },
    {
     "name": "stdout",
     "output_type": "stream",
     "text": [
      "\n",
      "Best split Soft 0.0\n"
     ]
    }
   ],
   "source": [
    "tree = build_tree(X_train, y_train)"
   ]
  },
  {
   "cell_type": "code",
   "execution_count": 18,
   "metadata": {
    "ExecuteTime": {
     "end_time": "2020-09-28T17:15:27.860674Z",
     "start_time": "2020-09-28T17:15:27.810807Z"
    }
   },
   "outputs": [
    {
     "name": "stdout",
     "output_type": "stream",
     "text": [
      "{'Taste == Sweet': ['Yes',\n",
      "                    {'Temperature == Cold': [{'Taste == Spicy': [{'Texture == Soft': ['Yes',\n",
      "                                                                                      'No']},\n",
      "                                                                 'No']},\n",
      "                                             {'Texture == Soft': ['No',\n",
      "                                                                  'Yes']}]}]}\n"
     ]
    }
   ],
   "source": [
    "pprint.pprint(tree, width=50)"
   ]
  },
  {
   "cell_type": "code",
   "execution_count": 19,
   "metadata": {
    "ExecuteTime": {
     "end_time": "2020-09-28T17:15:28.013266Z",
     "start_time": "2020-09-28T17:15:27.864663Z"
    }
   },
   "outputs": [
    {
     "name": "stdout",
     "output_type": "stream",
     "text": [
      "Train Accuracy: 100.0\n",
      "Test Accuracy: 100.0\n"
     ]
    }
   ],
   "source": [
    "print('Train Accuracy:', round(score(X_train, y_train, tree), 2))\n",
    "print('Test Accuracy:', round(score(X_test, y_test, tree), 2))"
   ]
  }
 ],
 "metadata": {
  "colab": {
   "name": "Decision Tree.ipynb",
   "provenance": []
  },
  "kernelspec": {
   "display_name": "Python 3",
   "language": "python",
   "name": "python3"
  },
  "varInspector": {
   "cols": {
    "lenName": 16,
    "lenType": 16,
    "lenVar": 40
   },
   "kernels_config": {
    "python": {
     "delete_cmd_postfix": "",
     "delete_cmd_prefix": "del ",
     "library": "var_list.py",
     "varRefreshCmd": "print(var_dic_list())"
    },
    "r": {
     "delete_cmd_postfix": ") ",
     "delete_cmd_prefix": "rm(",
     "library": "var_list.r",
     "varRefreshCmd": "cat(var_dic_list()) "
    }
   },
   "position": {
    "height": "337.4px",
    "left": "809px",
    "right": "20px",
    "top": "196px",
    "width": "522px"
   },
   "types_to_exclude": [
    "module",
    "function",
    "builtin_function_or_method",
    "instance",
    "_Feature"
   ],
   "window_display": false
  }
 },
 "nbformat": 4,
 "nbformat_minor": 1
}
