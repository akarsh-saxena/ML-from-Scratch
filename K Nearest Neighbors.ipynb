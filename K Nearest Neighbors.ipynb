{
 "cells": [
  {
   "cell_type": "code",
   "execution_count": 1,
   "metadata": {
    "ExecuteTime": {
     "end_time": "2020-10-15T13:44:39.745611Z",
     "start_time": "2020-10-15T13:44:39.534176Z"
    }
   },
   "outputs": [],
   "source": [
    "import numpy as np\n",
    "from collections import Counter\n",
    "\n",
    "from sklearn.datasets import load_iris\n",
    "from sklearn.model_selection import train_test_split"
   ]
  },
  {
   "cell_type": "code",
   "execution_count": 2,
   "metadata": {
    "ExecuteTime": {
     "end_time": "2020-10-15T13:44:39.757579Z",
     "start_time": "2020-10-15T13:44:39.748603Z"
    }
   },
   "outputs": [],
   "source": [
    "def flatten(container):\n",
    "    for i in container:\n",
    "        if isinstance(i, (list, tuple)):\n",
    "            yield from flatten(i)\n",
    "        else:\n",
    "            yield i"
   ]
  },
  {
   "cell_type": "code",
   "execution_count": 3,
   "metadata": {
    "ExecuteTime": {
     "end_time": "2020-10-15T13:44:39.849078Z",
     "start_time": "2020-10-15T13:44:39.761568Z"
    }
   },
   "outputs": [],
   "source": [
    "def format_input(X):\n",
    "    if not isinstance(X, (pd.DataFrame, pd.Series)):\n",
    "        if isinstance(X, dict):\n",
    "            X = pd.DataFrame(X)\n",
    "        else:\n",
    "            X = pd.DataFrame(X,\n",
    "                             columns=['x' + str(i) for i in range(X.shape[1])])\n",
    "\n",
    "    return X"
   ]
  },
  {
   "cell_type": "code",
   "execution_count": 4,
   "metadata": {
    "ExecuteTime": {
     "end_time": "2020-10-15T13:44:39.960663Z",
     "start_time": "2020-10-15T13:44:39.852070Z"
    }
   },
   "outputs": [],
   "source": [
    "def calculate_euclidean_distance(a, b):\n",
    "    return np.linalg.norm(a-b)"
   ]
  },
  {
   "cell_type": "code",
   "execution_count": 5,
   "metadata": {
    "ExecuteTime": {
     "end_time": "2020-10-15T13:44:40.084694Z",
     "start_time": "2020-10-15T13:44:39.966647Z"
    }
   },
   "outputs": [],
   "source": [
    "def get_nearest_neighbors(X_train, y_train, new_row):\n",
    "    neighbors = []\n",
    "    for row, label in zip(X_train, y_train):\n",
    "        euc_dist = calculate_euclidean_distance(row, new_row)\n",
    "        neighbors.append((euc_dist, label))\n",
    "    \n",
    "    return neighbors"
   ]
  },
  {
   "cell_type": "code",
   "execution_count": 6,
   "metadata": {
    "ExecuteTime": {
     "end_time": "2020-10-15T13:44:40.263016Z",
     "start_time": "2020-10-15T13:44:40.089683Z"
    }
   },
   "outputs": [],
   "source": [
    "def get_votes(X_train, y_train, new_row, k=5):\n",
    "    neighbors = get_nearest_neighbors(X_train, y_train, new_row)\n",
    "\n",
    "    neighbors = sorted(neighbors, key=lambda x: x[0])\n",
    "    \n",
    "    majority_class, class_count = Counter([c for _, c in neighbors[:k]\n",
    "                                           ]).most_common(1)[0]\n",
    "\n",
    "    return majority_class, class_count"
   ]
  },
  {
   "cell_type": "code",
   "execution_count": 7,
   "metadata": {
    "ExecuteTime": {
     "end_time": "2020-10-15T13:44:40.372478Z",
     "start_time": "2020-10-15T13:44:40.264991Z"
    }
   },
   "outputs": [],
   "source": [
    "def predict(X_train, y_train, X_test, k=5):\n",
    "    preds = []\n",
    "\n",
    "    for row in X_test:\n",
    "        preds.append(get_votes(X_train, y_train, row, k))\n",
    "\n",
    "    return np.array([c for c, _ in preds])"
   ]
  },
  {
   "cell_type": "code",
   "execution_count": 8,
   "metadata": {
    "ExecuteTime": {
     "end_time": "2020-10-15T13:44:40.560121Z",
     "start_time": "2020-10-15T13:44:40.374472Z"
    }
   },
   "outputs": [],
   "source": [
    "def score(y_test, y_pred):\n",
    "    assert len(y_test) == len(y_pred)\n",
    "    \n",
    "    return (y_test == y_pred).mean() * 100"
   ]
  },
  {
   "cell_type": "code",
   "execution_count": 9,
   "metadata": {
    "ExecuteTime": {
     "end_time": "2020-10-15T13:44:40.722289Z",
     "start_time": "2020-10-15T13:44:40.563114Z"
    }
   },
   "outputs": [],
   "source": [
    "X, y = load_iris(return_X_y=True)"
   ]
  },
  {
   "cell_type": "code",
   "execution_count": 10,
   "metadata": {
    "ExecuteTime": {
     "end_time": "2020-10-15T13:44:40.878316Z",
     "start_time": "2020-10-15T13:44:40.723787Z"
    },
    "scrolled": true
   },
   "outputs": [
    {
     "name": "stdout",
     "output_type": "stream",
     "text": [
      "(150, 4)\n",
      "(150,)\n"
     ]
    }
   ],
   "source": [
    "print(X.shape)\n",
    "print(y.shape)"
   ]
  },
  {
   "cell_type": "code",
   "execution_count": 11,
   "metadata": {
    "ExecuteTime": {
     "end_time": "2020-10-15T13:44:41.027164Z",
     "start_time": "2020-10-15T13:44:40.881265Z"
    }
   },
   "outputs": [],
   "source": [
    "X_train, X_test, y_train, y_test = train_test_split(X, y, test_size=0.1, random_state=0)"
   ]
  },
  {
   "cell_type": "code",
   "execution_count": 12,
   "metadata": {
    "ExecuteTime": {
     "end_time": "2020-10-15T13:44:41.151684Z",
     "start_time": "2020-10-15T13:44:41.030139Z"
    }
   },
   "outputs": [
    {
     "name": "stdout",
     "output_type": "stream",
     "text": [
      "(135, 4)\n",
      "(15, 4)\n"
     ]
    }
   ],
   "source": [
    "print(X_train.shape)\n",
    "print(X_test.shape)"
   ]
  },
  {
   "cell_type": "code",
   "execution_count": 13,
   "metadata": {
    "ExecuteTime": {
     "end_time": "2020-10-15T13:44:41.266695Z",
     "start_time": "2020-10-15T13:44:41.154635Z"
    },
    "code_folding": []
   },
   "outputs": [
    {
     "name": "stdout",
     "output_type": "stream",
     "text": [
      "[4.9 3.6 1.4 0.1] -> 0\n",
      "[6.  2.9 4.5 1.5] -> 1\n",
      "[5.5 2.6 4.4 1.2] -> 1\n",
      "[4.8 3.  1.4 0.3] -> 0\n",
      "[5.4 3.9 1.3 0.4] -> 0\n",
      "[5.6 2.8 4.9 2. ] -> 2\n",
      "[5.6 3.  4.5 1.5] -> 1\n",
      "[4.8 3.4 1.9 0.2] -> 0\n",
      "[4.4 2.9 1.4 0.2] -> 0\n",
      "[6.2 2.8 4.8 1.8] -> 2\n"
     ]
    }
   ],
   "source": [
    "for i in range(10):\n",
    "    print(f'{X_train[i]} -> {y_train[i]}')"
   ]
  },
  {
   "cell_type": "code",
   "execution_count": 14,
   "metadata": {
    "ExecuteTime": {
     "end_time": "2020-10-15T13:44:41.490185Z",
     "start_time": "2020-10-15T13:44:41.268693Z"
    }
   },
   "outputs": [],
   "source": [
    "train_pred = predict(X_train, y_train, X_train)\n",
    "test_pred = predict(X_train, y_train, X_test)"
   ]
  },
  {
   "cell_type": "code",
   "execution_count": 15,
   "metadata": {
    "ExecuteTime": {
     "end_time": "2020-10-15T13:44:41.500817Z",
     "start_time": "2020-10-15T13:44:41.493834Z"
    }
   },
   "outputs": [],
   "source": [
    "train_acc = score(y_train, train_pred)\n",
    "test_acc = score(y_test, test_pred)"
   ]
  },
  {
   "cell_type": "code",
   "execution_count": 16,
   "metadata": {
    "ExecuteTime": {
     "end_time": "2020-10-15T13:44:41.634462Z",
     "start_time": "2020-10-15T13:44:41.502809Z"
    }
   },
   "outputs": [
    {
     "name": "stdout",
     "output_type": "stream",
     "text": [
      "Train Accuracy: 95.56\n",
      "Test Accuracy: 100.0\n"
     ]
    }
   ],
   "source": [
    "print('Train Accuracy:',np.round(train_acc, 2))\n",
    "print('Test Accuracy:',np.round(test_acc, 2))"
   ]
  }
 ],
 "metadata": {
  "kernelspec": {
   "display_name": "Python 3",
   "language": "python",
   "name": "python3"
  },
  "language_info": {
   "codemirror_mode": {
    "name": "ipython",
    "version": 3
   },
   "file_extension": ".py",
   "mimetype": "text/x-python",
   "name": "python",
   "nbconvert_exporter": "python",
   "pygments_lexer": "ipython3",
   "version": "3.6.8"
  },
  "varInspector": {
   "cols": {
    "lenName": 16,
    "lenType": 16,
    "lenVar": 40
   },
   "kernels_config": {
    "python": {
     "delete_cmd_postfix": "",
     "delete_cmd_prefix": "del ",
     "library": "var_list.py",
     "varRefreshCmd": "print(var_dic_list())"
    },
    "r": {
     "delete_cmd_postfix": ") ",
     "delete_cmd_prefix": "rm(",
     "library": "var_list.r",
     "varRefreshCmd": "cat(var_dic_list()) "
    }
   },
   "types_to_exclude": [
    "module",
    "function",
    "builtin_function_or_method",
    "instance",
    "_Feature"
   ],
   "window_display": false
  }
 },
 "nbformat": 4,
 "nbformat_minor": 2
}
