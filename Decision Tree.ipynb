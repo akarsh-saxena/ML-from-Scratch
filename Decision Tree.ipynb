{
 "cells": [
  {
   "cell_type": "code",
   "execution_count": 1,
   "metadata": {
    "ExecuteTime": {
     "end_time": "2020-09-29T17:51:01.131705Z",
     "start_time": "2020-09-29T17:51:00.908421Z"
    },
    "id": "1tzw9rFBjZvh"
   },
   "outputs": [],
   "source": [
    "import pprint\n",
    "import operator\n",
    "import itertools\n",
    "import numpy as np\n",
    "import pandas as pd\n",
    "\n",
    "from sklearn.datasets import load_iris\n",
    "from sklearn.model_selection import train_test_split"
   ]
  },
  {
   "cell_type": "code",
   "execution_count": 2,
   "metadata": {
    "ExecuteTime": {
     "end_time": "2020-09-29T17:51:01.148840Z",
     "start_time": "2020-09-29T17:51:01.138687Z"
    }
   },
   "outputs": [],
   "source": [
    "def flatten(container):\n",
    "    for i in container:\n",
    "        if isinstance(i, (list, tuple)):\n",
    "            yield from flatten(i)\n",
    "        else:\n",
    "            yield i"
   ]
  },
  {
   "cell_type": "code",
   "execution_count": 3,
   "metadata": {
    "ExecuteTime": {
     "end_time": "2020-09-29T17:51:01.268997Z",
     "start_time": "2020-09-29T17:51:01.151871Z"
    }
   },
   "outputs": [],
   "source": [
    "def calculate_prob(y, prob_class):\n",
    "    n_class = sum(prob_class == i for i in flatten(y))\n",
    "\n",
    "    return n_class"
   ]
  },
  {
   "cell_type": "code",
   "execution_count": 4,
   "metadata": {
    "ExecuteTime": {
     "end_time": "2020-09-29T17:51:01.370814Z",
     "start_time": "2020-09-29T17:51:01.272007Z"
    }
   },
   "outputs": [],
   "source": [
    "def format_input(X):\n",
    "    if not isinstance(X, (pd.DataFrame, pd.Series)):\n",
    "        if isinstance(X, dict):\n",
    "            X = pd.DataFrame(X)\n",
    "        else:\n",
    "            if len(X.shape) == 1:\n",
    "                X = X.reshape(-1, 1)\n",
    "            X = pd.DataFrame(X,\n",
    "                             columns=['x' + str(i) for i in range(X.shape[1])])\n",
    "\n",
    "    return X"
   ]
  },
  {
   "cell_type": "code",
   "execution_count": 5,
   "metadata": {
    "ExecuteTime": {
     "end_time": "2020-09-29T17:51:01.496938Z",
     "start_time": "2020-09-29T17:51:01.373979Z"
    }
   },
   "outputs": [],
   "source": [
    "def get_class_counts(y):\n",
    "    classes = np.unique(y)\n",
    "    counts = []\n",
    "    class_counts = {}\n",
    "\n",
    "    for c in classes:\n",
    "        counts.append(int(sum(c == i for i in flatten(y.values))))\n",
    "        class_counts[c] = int(sum(c == i for i in flatten(y.values)))\n",
    "\n",
    "    return class_counts"
   ]
  },
  {
   "cell_type": "code",
   "execution_count": 6,
   "metadata": {
    "ExecuteTime": {
     "end_time": "2020-09-29T17:51:01.631805Z",
     "start_time": "2020-09-29T17:51:01.500292Z"
    }
   },
   "outputs": [],
   "source": [
    "def get_datatypes(X):\n",
    "    datatypes = {}\n",
    "    for name, dtype in X.dtypes.items():\n",
    "        if dtype == 'O':\n",
    "            datatypes[name] = 'categorical'\n",
    "        else: \n",
    "            datatypes[name] = 'numerical'\n",
    "            \n",
    "    return datatypes"
   ]
  },
  {
   "cell_type": "code",
   "execution_count": 7,
   "metadata": {
    "ExecuteTime": {
     "end_time": "2020-09-29T17:51:01.774056Z",
     "start_time": "2020-09-29T17:51:01.638021Z"
    }
   },
   "outputs": [],
   "source": [
    "def calculate_entropy(y):\n",
    "    class_counts = get_class_counts(y)\n",
    "    class_entropy = {\n",
    "        cl: -count / sum(class_counts.values()) *\n",
    "        np.log2(count / sum(class_counts.values()))\n",
    "        for cl, count in class_counts.items()\n",
    "    }\n",
    "    entropy = sum(class_entropy.values())\n",
    "\n",
    "    return entropy"
   ]
  },
  {
   "cell_type": "code",
   "execution_count": 8,
   "metadata": {
    "ExecuteTime": {
     "end_time": "2020-09-29T17:51:01.914794Z",
     "start_time": "2020-09-29T17:51:01.779043Z"
    }
   },
   "outputs": [],
   "source": [
    "def get_split_condition(X, col):\n",
    "\n",
    "    global datatypes\n",
    "\n",
    "    if datatypes[X.columns[col]] == 'categorical':\n",
    "        values = X.iloc[:, col].unique()\n",
    "    else:\n",
    "        X_sorted = X.sort_values(X.columns[col])\n",
    "        val = list(set(X_sorted.iloc[:, col].values))\n",
    "        if len(val) < 2:\n",
    "            values = val\n",
    "        else:\n",
    "            values = [\n",
    "                round((val[i + 1] + val[i]) / 2, 4)\n",
    "                for i in range(len(val) - 1)\n",
    "            ]\n",
    "\n",
    "    return values"
   ]
  },
  {
   "cell_type": "code",
   "execution_count": 9,
   "metadata": {
    "ExecuteTime": {
     "end_time": "2020-09-29T17:51:02.026408Z",
     "start_time": "2020-09-29T17:51:01.916900Z"
    }
   },
   "outputs": [],
   "source": [
    "def get_subset(X, col, val):\n",
    "\n",
    "    global datatypes\n",
    "\n",
    "    if datatypes[X.columns[col]] == 'categorical':\n",
    "        eq_X = X.loc[X[X.columns[col]] == val]\n",
    "    else:\n",
    "        eq_X = X.loc[X[X.columns[col]] < val]\n",
    "\n",
    "    not_eq_X = X.drop(eq_X.index)\n",
    "\n",
    "    return eq_X, not_eq_X"
   ]
  },
  {
   "cell_type": "code",
   "execution_count": 10,
   "metadata": {
    "ExecuteTime": {
     "end_time": "2020-09-29T17:51:02.140074Z",
     "start_time": "2020-09-29T17:51:02.028689Z"
    }
   },
   "outputs": [],
   "source": [
    "def is_pure(y):\n",
    "    return len(np.unique(y.values)) == 1"
   ]
  },
  {
   "cell_type": "code",
   "execution_count": 11,
   "metadata": {
    "ExecuteTime": {
     "end_time": "2020-09-29T17:51:02.283427Z",
     "start_time": "2020-09-29T17:51:02.143715Z"
    }
   },
   "outputs": [],
   "source": [
    "def build_tree(X,\n",
    "               y,\n",
    "               max_depth=None,\n",
    "               min_samples=None,\n",
    "               tree=None):\n",
    "\n",
    "    global datatypes\n",
    "    \n",
    "    if tree is None:\n",
    "        tree = {}\n",
    "\n",
    "    entropies = {}\n",
    "    columns = {}\n",
    "\n",
    "    for col_idx in range(X.shape[1]):\n",
    "\n",
    "        split_vals = get_split_condition(X, col_idx)\n",
    "\n",
    "        for val in split_vals:\n",
    "            eq_X, not_eq_X = get_subset(X, col_idx, val)\n",
    "            eq_y, not_eq_y = y.loc[eq_X.index, :], y.loc[not_eq_X.index, :]\n",
    "\n",
    "            eq_entr = calculate_entropy(eq_y)\n",
    "            not_eq_entr = calculate_entropy(not_eq_y)\n",
    "\n",
    "            avg_entr = (len(eq_y) / len(y) * eq_entr) + (len(not_eq_y) /\n",
    "                                                         len(y) * not_eq_entr)\n",
    "\n",
    "            entropies[val] = avg_entr\n",
    "            columns[val] = col_idx\n",
    "\n",
    "    best_split_key = min(entropies, key=entropies.get)\n",
    "    best_split_value = entropies.get(best_split_key)\n",
    "\n",
    "    eq_X, not_eq_X = get_subset(X, columns[best_split_key], best_split_key)\n",
    "    eq_y, not_eq_y = y.loc[eq_X.index, :], y.loc[not_eq_X.index, :]\n",
    "\n",
    "    print('Best split', best_split_key, best_split_value)\n",
    "\n",
    "    column_name = X.columns[columns[best_split_key]]\n",
    "\n",
    "    if datatypes[column_name] == 'categorical':\n",
    "        condition = column_name + ' == ' + best_split_key\n",
    "    else:\n",
    "        condition = column_name + ' < ' + str(best_split_key)\n",
    "\n",
    "    tree[condition] = []\n",
    "    if is_pure(eq_y):\n",
    "        tree[condition].append(np.unique(eq_y)[0])\n",
    "    else:\n",
    "        tree[condition].append(build_tree(eq_X, eq_y))\n",
    "\n",
    "    if is_pure(not_eq_y):\n",
    "        tree[condition].append(np.unique(not_eq_y)[0])\n",
    "    else:\n",
    "        tree[condition].append(build_tree(not_eq_X, not_eq_y))\n",
    "\n",
    "    return tree"
   ]
  },
  {
   "cell_type": "code",
   "execution_count": 12,
   "metadata": {
    "ExecuteTime": {
     "end_time": "2020-09-29T17:51:02.436946Z",
     "start_time": "2020-09-29T17:51:02.289651Z"
    }
   },
   "outputs": [],
   "source": [
    "def get_prediction(instance, tree):\n",
    "\n",
    "    node = list(tree.keys())[0]\n",
    "\n",
    "    operators = {'==': operator.eq, '<': operator.le}\n",
    "\n",
    "    col, op, val = node.split(' ')\n",
    "\n",
    "    if instance.dtypes[col] == 'O':\n",
    "        compare_eq = operators[op](instance[col].values[0], val)\n",
    "    else:\n",
    "        compare_eq = operators[op](instance[col].values[0], float(val))\n",
    "\n",
    "    if compare_eq:\n",
    "        ans = tree[node][0]\n",
    "    else:\n",
    "        ans = tree[node][1]\n",
    "\n",
    "    if not isinstance(ans, dict):\n",
    "        return ans\n",
    "    else:\n",
    "        return get_prediction(instance, ans)"
   ]
  },
  {
   "cell_type": "code",
   "execution_count": 13,
   "metadata": {
    "ExecuteTime": {
     "end_time": "2020-09-29T17:51:02.557756Z",
     "start_time": "2020-09-29T17:51:02.438924Z"
    }
   },
   "outputs": [],
   "source": [
    "def predict(X, tree):\n",
    "\n",
    "    predictions = []\n",
    "\n",
    "    for i in range(len(X)):\n",
    "        predictions.append(get_prediction(X.iloc[[i], :], tree))\n",
    "\n",
    "    return predictions"
   ]
  },
  {
   "cell_type": "code",
   "execution_count": 14,
   "metadata": {
    "ExecuteTime": {
     "end_time": "2020-09-29T17:51:02.671561Z",
     "start_time": "2020-09-29T17:51:02.560700Z"
    }
   },
   "outputs": [],
   "source": [
    "def score(X, y, tree):\n",
    "    correct = 0\n",
    "\n",
    "    for i in range(len(X)):\n",
    "        pred = predict(X.iloc[[i]], tree)\n",
    "        if pred == y.values[i]:\n",
    "            correct += 1\n",
    "\n",
    "    return correct / len(X) * 100"
   ]
  },
  {
   "cell_type": "markdown",
   "metadata": {},
   "source": [
    "### Dataset with categorical features"
   ]
  },
  {
   "cell_type": "code",
   "execution_count": 15,
   "metadata": {
    "ExecuteTime": {
     "end_time": "2020-09-29T17:51:02.770582Z",
     "start_time": "2020-09-29T17:51:02.676492Z"
    }
   },
   "outputs": [],
   "source": [
    "X = {'Taste':['Salty','Spicy','Spicy','Spicy','Spicy','Sweet','Salty','Sweet','Spicy','Salty'],\n",
    "       'Temperature':['Hot','Hot','Hot','Cold','Hot','Cold','Cold','Hot','Cold','Hot'],\n",
    "       'Texture':['Soft','Soft','Hard','Hard','Hard','Soft','Soft','Soft','Soft','Hard']}\n",
    "       \n",
    "y = {'Eat':['No','No','Yes','No','Yes','Yes','No','Yes','Yes','Yes']}\n",
    "\n",
    "X = format_input(X)\n",
    "y = format_input(y)"
   ]
  },
  {
   "cell_type": "code",
   "execution_count": 16,
   "metadata": {
    "ExecuteTime": {
     "end_time": "2020-09-29T17:51:02.895739Z",
     "start_time": "2020-09-29T17:51:02.773628Z"
    }
   },
   "outputs": [],
   "source": [
    "datatypes = get_datatypes(X)"
   ]
  },
  {
   "cell_type": "code",
   "execution_count": 17,
   "metadata": {
    "ExecuteTime": {
     "end_time": "2020-09-29T17:51:03.004858Z",
     "start_time": "2020-09-29T17:51:02.899730Z"
    }
   },
   "outputs": [],
   "source": [
    "X_train, X_test, y_train, y_test = train_test_split(X, y, test_size=0.2, random_state=123)"
   ]
  },
  {
   "cell_type": "code",
   "execution_count": 18,
   "metadata": {
    "ExecuteTime": {
     "end_time": "2020-09-29T17:51:03.321940Z",
     "start_time": "2020-09-29T17:51:03.009847Z"
    }
   },
   "outputs": [
    {
     "name": "stdout",
     "output_type": "stream",
     "text": [
      "Best split Sweet 0.75\n",
      "Best split Cold 0.9182958340544896\n",
      "Best split Spicy 0.6666666666666666\n",
      "Best split Soft 0.0\n",
      "Best split Soft 0.0\n"
     ]
    }
   ],
   "source": [
    "tree = build_tree(X_train, y_train)"
   ]
  },
  {
   "cell_type": "code",
   "execution_count": 19,
   "metadata": {
    "ExecuteTime": {
     "end_time": "2020-09-29T17:51:03.334753Z",
     "start_time": "2020-09-29T17:51:03.326903Z"
    }
   },
   "outputs": [
    {
     "name": "stdout",
     "output_type": "stream",
     "text": [
      "{'Taste == Sweet': ['Yes',\n",
      "                    {'Temperature == Cold': [{'Taste == Spicy': [{'Texture == Soft': ['Yes',\n",
      "                                                                                      'No']},\n",
      "                                                                 'No']},\n",
      "                                             {'Texture == Soft': ['No',\n",
      "                                                                  'Yes']}]}]}\n"
     ]
    }
   ],
   "source": [
    "pprint.pprint(tree, width=50)"
   ]
  },
  {
   "cell_type": "code",
   "execution_count": 20,
   "metadata": {
    "ExecuteTime": {
     "end_time": "2020-09-29T17:51:03.473547Z",
     "start_time": "2020-09-29T17:51:03.337933Z"
    }
   },
   "outputs": [
    {
     "name": "stdout",
     "output_type": "stream",
     "text": [
      "Train Accuracy: 100.0\n",
      "Test Accuracy: 100.0\n"
     ]
    }
   ],
   "source": [
    "print('Train Accuracy:', round(score(X_train, y_train, tree), 2))\n",
    "print('Test Accuracy:', round(score(X_test, y_test, tree), 2))"
   ]
  },
  {
   "cell_type": "markdown",
   "metadata": {},
   "source": [
    "### Dataset with continuous features"
   ]
  },
  {
   "cell_type": "code",
   "execution_count": 21,
   "metadata": {
    "ExecuteTime": {
     "end_time": "2020-09-29T17:51:03.596890Z",
     "start_time": "2020-09-29T17:51:03.478533Z"
    }
   },
   "outputs": [],
   "source": [
    "X, y = load_iris(return_X_y=True)\n",
    "\n",
    "X = format_input(X)\n",
    "y = format_input(y)"
   ]
  },
  {
   "cell_type": "code",
   "execution_count": 22,
   "metadata": {
    "ExecuteTime": {
     "end_time": "2020-09-29T17:51:03.692853Z",
     "start_time": "2020-09-29T17:51:03.598861Z"
    }
   },
   "outputs": [],
   "source": [
    "datatypes = get_datatypes(X)"
   ]
  },
  {
   "cell_type": "code",
   "execution_count": 23,
   "metadata": {
    "ExecuteTime": {
     "end_time": "2020-09-29T17:51:03.804972Z",
     "start_time": "2020-09-29T17:51:03.695782Z"
    }
   },
   "outputs": [],
   "source": [
    "X_train, X_test, y_train, y_test = train_test_split(X, y, test_size=0.2, random_state=123)"
   ]
  },
  {
   "cell_type": "code",
   "execution_count": 24,
   "metadata": {
    "ExecuteTime": {
     "end_time": "2020-09-29T17:51:05.686756Z",
     "start_time": "2020-09-29T17:51:03.808961Z"
    }
   },
   "outputs": [
    {
     "name": "stdout",
     "output_type": "stream",
     "text": [
      "Best split 2.45 0.6898549587177165\n",
      "Best split 1.75 0.31721308476515864\n",
      "Best split 5.0 0.2483500540348903\n",
      "Best split 1.65 0.0\n",
      "Best split 2.65 0.5509775004326937\n",
      "Best split 5.45 0.0\n",
      "Best split 4.9 0.05555555555555555\n",
      "Best split 6.05 0.0\n"
     ]
    }
   ],
   "source": [
    "tree = build_tree(X_train, y_train)"
   ]
  },
  {
   "cell_type": "code",
   "execution_count": 25,
   "metadata": {
    "ExecuteTime": {
     "end_time": "2020-09-29T17:51:05.701431Z",
     "start_time": "2020-09-29T17:51:05.691541Z"
    }
   },
   "outputs": [
    {
     "name": "stdout",
     "output_type": "stream",
     "text": [
      "{'x2 < 2.45': [0,\n",
      "               {'x3 < 1.75': [{'x2 < 5.0': [{'x3 < 1.65': [1,\n",
      "                                                           2]},\n",
      "                                            {'x1 < 2.65': [2,\n",
      "                                                           {'x2 < 5.45': [1,\n",
      "                                                                          2]}]}]},\n",
      "                              {'x2 < 4.9': [{'x0 < 6.05': [1,\n",
      "                                                           2]},\n",
      "                                            2]}]}]}\n"
     ]
    }
   ],
   "source": [
    "pprint.pprint(tree, width=50)"
   ]
  },
  {
   "cell_type": "code",
   "execution_count": 26,
   "metadata": {
    "ExecuteTime": {
     "end_time": "2020-09-29T17:51:06.221457Z",
     "start_time": "2020-09-29T17:51:05.709176Z"
    }
   },
   "outputs": [
    {
     "name": "stdout",
     "output_type": "stream",
     "text": [
      "Train Accuracy: 98.33\n",
      "Test Accuracy: 90.0\n"
     ]
    }
   ],
   "source": [
    "print('Train Accuracy:', round(score(X_train, y_train, tree), 2))\n",
    "print('Test Accuracy:', round(score(X_test, y_test, tree), 2))"
   ]
  }
 ],
 "metadata": {
  "colab": {
   "name": "Decision Tree.ipynb",
   "provenance": []
  },
  "kernelspec": {
   "display_name": "Python 3",
   "language": "python",
   "name": "python3"
  },
  "language_info": {
   "codemirror_mode": {
    "name": "ipython",
    "version": 3
   },
   "file_extension": ".py",
   "mimetype": "text/x-python",
   "name": "python",
   "nbconvert_exporter": "python",
   "pygments_lexer": "ipython3",
   "version": "3.6.8"
  },
  "varInspector": {
   "cols": {
    "lenName": 16,
    "lenType": 16,
    "lenVar": 40
   },
   "kernels_config": {
    "python": {
     "delete_cmd_postfix": "",
     "delete_cmd_prefix": "del ",
     "library": "var_list.py",
     "varRefreshCmd": "print(var_dic_list())"
    },
    "r": {
     "delete_cmd_postfix": ") ",
     "delete_cmd_prefix": "rm(",
     "library": "var_list.r",
     "varRefreshCmd": "cat(var_dic_list()) "
    }
   },
   "position": {
    "height": "337.4px",
    "left": "809px",
    "right": "20px",
    "top": "196px",
    "width": "522px"
   },
   "types_to_exclude": [
    "module",
    "function",
    "builtin_function_or_method",
    "instance",
    "_Feature"
   ],
   "window_display": false
  }
 },
 "nbformat": 4,
 "nbformat_minor": 1
}
