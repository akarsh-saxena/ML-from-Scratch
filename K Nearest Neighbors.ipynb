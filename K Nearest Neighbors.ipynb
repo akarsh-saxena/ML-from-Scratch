{
 "cells": [
  {
   "cell_type": "code",
   "execution_count": 1,
   "metadata": {
    "ExecuteTime": {
     "end_time": "2020-10-15T13:37:28.341957Z",
     "start_time": "2020-10-15T13:37:28.136277Z"
    }
   },
   "outputs": [],
   "source": [
    "import numpy as np\n",
    "from collections import Counter\n",
    "\n",
    "from sklearn.datasets import load_iris\n",
    "from sklearn.model_selection import train_test_split"
   ]
  },
  {
   "cell_type": "code",
   "execution_count": 2,
   "metadata": {
    "ExecuteTime": {
     "end_time": "2020-10-15T13:37:28.354691Z",
     "start_time": "2020-10-15T13:37:28.344717Z"
    }
   },
   "outputs": [],
   "source": [
    "def flatten(container):\n",
    "    for i in container:\n",
    "        if isinstance(i, (list, tuple)):\n",
    "            yield from flatten(i)\n",
    "        else:\n",
    "            yield i"
   ]
  },
  {
   "cell_type": "code",
   "execution_count": 3,
   "metadata": {
    "ExecuteTime": {
     "end_time": "2020-10-15T13:37:28.463920Z",
     "start_time": "2020-10-15T13:37:28.359677Z"
    }
   },
   "outputs": [],
   "source": [
    "def format_input(X):\n",
    "    if not isinstance(X, (pd.DataFrame, pd.Series)):\n",
    "        if isinstance(X, dict):\n",
    "            X = pd.DataFrame(X)\n",
    "        else:\n",
    "            X = pd.DataFrame(X,\n",
    "                             columns=['x' + str(i) for i in range(X.shape[1])])\n",
    "\n",
    "    return X"
   ]
  },
  {
   "cell_type": "code",
   "execution_count": 4,
   "metadata": {
    "ExecuteTime": {
     "end_time": "2020-10-15T13:37:28.610671Z",
     "start_time": "2020-10-15T13:37:28.466913Z"
    }
   },
   "outputs": [],
   "source": [
    "X, y = load_iris(return_X_y=True)"
   ]
  },
  {
   "cell_type": "code",
   "execution_count": 5,
   "metadata": {
    "ExecuteTime": {
     "end_time": "2020-10-15T13:37:28.756819Z",
     "start_time": "2020-10-15T13:37:28.615660Z"
    },
    "scrolled": true
   },
   "outputs": [
    {
     "name": "stdout",
     "output_type": "stream",
     "text": [
      "(150, 4)\n",
      "(150,)\n"
     ]
    }
   ],
   "source": [
    "print(X.shape)\n",
    "print(y.shape)"
   ]
  },
  {
   "cell_type": "code",
   "execution_count": 6,
   "metadata": {
    "ExecuteTime": {
     "end_time": "2020-10-15T13:37:28.897943Z",
     "start_time": "2020-10-15T13:37:28.760806Z"
    }
   },
   "outputs": [],
   "source": [
    "X_train, X_test, y_train, y_test = train_test_split(X, y, test_size=0.1, random_state=0)"
   ]
  },
  {
   "cell_type": "code",
   "execution_count": 7,
   "metadata": {
    "ExecuteTime": {
     "end_time": "2020-10-15T13:37:29.021749Z",
     "start_time": "2020-10-15T13:37:28.902929Z"
    }
   },
   "outputs": [
    {
     "name": "stdout",
     "output_type": "stream",
     "text": [
      "(135, 4)\n",
      "(15, 4)\n"
     ]
    }
   ],
   "source": [
    "print(X_train.shape)\n",
    "print(X_test.shape)"
   ]
  },
  {
   "cell_type": "code",
   "execution_count": 8,
   "metadata": {
    "ExecuteTime": {
     "end_time": "2020-10-15T13:37:29.136647Z",
     "start_time": "2020-10-15T13:37:29.025729Z"
    },
    "code_folding": []
   },
   "outputs": [
    {
     "name": "stdout",
     "output_type": "stream",
     "text": [
      "[4.9 3.6 1.4 0.1] -> 0\n",
      "[6.  2.9 4.5 1.5] -> 1\n",
      "[5.5 2.6 4.4 1.2] -> 1\n",
      "[4.8 3.  1.4 0.3] -> 0\n",
      "[5.4 3.9 1.3 0.4] -> 0\n",
      "[5.6 2.8 4.9 2. ] -> 2\n",
      "[5.6 3.  4.5 1.5] -> 1\n",
      "[4.8 3.4 1.9 0.2] -> 0\n",
      "[4.4 2.9 1.4 0.2] -> 0\n",
      "[6.2 2.8 4.8 1.8] -> 2\n"
     ]
    }
   ],
   "source": [
    "for i in range(10):\n",
    "    print(f'{X_train[i]} -> {y_train[i]}')"
   ]
  }
 ],
 "metadata": {
  "kernelspec": {
   "display_name": "Python 3",
   "language": "python",
   "name": "python3"
  },
  "language_info": {
   "codemirror_mode": {
    "name": "ipython",
    "version": 3
   },
   "file_extension": ".py",
   "mimetype": "text/x-python",
   "name": "python",
   "nbconvert_exporter": "python",
   "pygments_lexer": "ipython3",
   "version": "3.6.8"
  },
  "varInspector": {
   "cols": {
    "lenName": 16,
    "lenType": 16,
    "lenVar": 40
   },
   "kernels_config": {
    "python": {
     "delete_cmd_postfix": "",
     "delete_cmd_prefix": "del ",
     "library": "var_list.py",
     "varRefreshCmd": "print(var_dic_list())"
    },
    "r": {
     "delete_cmd_postfix": ") ",
     "delete_cmd_prefix": "rm(",
     "library": "var_list.r",
     "varRefreshCmd": "cat(var_dic_list()) "
    }
   },
   "types_to_exclude": [
    "module",
    "function",
    "builtin_function_or_method",
    "instance",
    "_Feature"
   ],
   "window_display": false
  }
 },
 "nbformat": 4,
 "nbformat_minor": 2
}
